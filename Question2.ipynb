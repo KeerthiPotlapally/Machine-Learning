{
 "cells": [
  {
   "cell_type": "code",
   "execution_count": null,
   "metadata": {},
   "outputs": [
    {
     "ename": "",
     "evalue": "",
     "output_type": "error",
     "traceback": [
      "\u001b[1;31mRunning cells with 'Python 3.10.6 64-bit (windows store)' requires ipykernel package.\n",
      "\u001b[1;31mRun the following command to install 'ipykernel' into the Python environment. \n",
      "\u001b[1;31mCommand: '\"c:/Users/keerthi potlapally/AppData/Local/Microsoft/WindowsApps/PythonSoftwareFoundation.Python.3.10_qbz5n2kfra8p0/python.exe\" -m pip install ipykernel -U --user --force-reinstall'"
     ]
    }
   ],
   "source": [
    "#Question 1\n",
    "ages = [19,22,19,24,20,25,26,24,25,24]\n",
    "print(\"The given list is : \", ages)\n",
    "\n",
    "#Sorting the list \n",
    "ages.sort()\n",
    "print(\"The Sorted list is : \", ages)\n",
    "\n",
    "#Min age from the list \n",
    "minage = min(ages)\n",
    "print(\"The Min age from the list is : \", minage)\n",
    "\n",
    "#Max age from the list \n",
    "maxage = max(ages)\n",
    "print(\"The Max age from the list is : \", maxage)\n",
    "\n",
    "#appending Min age and Max age to the given list \n",
    "ages.append(minage)\n",
    "ages.append(maxage)\n",
    "print(\"The List after appending Min age and Max Age : \", ages)\n",
    "\n",
    "#Finding median age from the list \n",
    "ages.sort()\n",
    "if len(ages) % 2 == 0:\n",
    "   first_median = ages[len(ages)// 2]\n",
    "   second_median = ages[len(ages)// 2 - 1]\n",
    "   median = (first_median + second_median) / 2\n",
    "else:\n",
    "   median = ages[len(ages)]\n",
    "print(\"Median of above list is: \" + str(median))\n",
    "\n",
    "#Finding Average age from the list \n",
    "def calc_average(avgages):  \n",
    "    return sum(ages) / len(ages)  \n",
    "avgages = ages  \n",
    "average = calc_average(avgages)\n",
    "print(\"The average of the list is \", round(average, 3)) \n",
    "\n",
    "#Finding Range of the list \n",
    "minage = min(ages)\n",
    "maxage = max(ages)\n",
    "Rangeofages = max(ages) - min(ages)\n",
    "print(\"The Range of the list is \", Rangeofages)"
   ]
  }
 ],
 "metadata": {
  "kernelspec": {
   "display_name": "Python 3.10.6 64-bit (windows store)",
   "language": "python",
   "name": "python3"
  },
  "language_info": {
   "name": "python",
   "version": "3.10.6"
  },
  "orig_nbformat": 4,
  "vscode": {
   "interpreter": {
    "hash": "0ea12bfc683385dc9f8274fad90b67142c831c97a2808e6afe5edcb20469b243"
   }
  }
 },
 "nbformat": 4,
 "nbformat_minor": 2
}
